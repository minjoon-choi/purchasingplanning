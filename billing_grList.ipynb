{
 "cells": [
  {
   "cell_type": "markdown",
   "metadata": {},
   "source": [
    "# 구매대행수수료 청구내역 파일 생성\n",
    "\n",
    "<hr>Date: 2020-06-30 / Author: Minjoon Choi <br>\n",
    "고객사 구매대행수수료 청구 시 필요한 청구내역 파일을 생성<br> \n",
    "xlsx 파일 보안해제 !!!!<hr>"
   ]
  },
  {
   "cell_type": "code",
   "execution_count": 3,
   "metadata": {},
   "outputs": [],
   "source": [
    "import pandas as pd"
   ]
  },
  {
   "cell_type": "markdown",
   "metadata": {},
   "source": [
    "## 파일 path 설정"
   ]
  },
  {
   "cell_type": "code",
   "execution_count": 4,
   "metadata": {},
   "outputs": [],
   "source": [
    "# 작업 디렉토리 설정\n",
    "path = r'D:\\2020 구매기획팀\\3. 정기업무\\1. 구매대행수수료\\7월\\청구내역'\n",
    "\n",
    "# 전사 청구내역 데이터 - 작업 디렉토리 내에 있어야 함\n",
    "file_name = 'download.xlsx'"
   ]
  },
  {
   "cell_type": "markdown",
   "metadata": {},
   "source": [
    "## 데이터 로드"
   ]
  },
  {
   "cell_type": "code",
   "execution_count": 5,
   "metadata": {
    "scrolled": true
   },
   "outputs": [
    {
     "data": {
      "text/html": [
       "<div>\n",
       "<style scoped>\n",
       "    .dataframe tbody tr th:only-of-type {\n",
       "        vertical-align: middle;\n",
       "    }\n",
       "\n",
       "    .dataframe tbody tr th {\n",
       "        vertical-align: top;\n",
       "    }\n",
       "\n",
       "    .dataframe thead th {\n",
       "        text-align: right;\n",
       "    }\n",
       "</style>\n",
       "<table border=\"1\" class=\"dataframe\">\n",
       "  <thead>\n",
       "    <tr style=\"text-align: right;\">\n",
       "      <th></th>\n",
       "      <th>고객사코드</th>\n",
       "      <th>고객사명</th>\n",
       "      <th>플랜트코드</th>\n",
       "      <th>내외자구분</th>\n",
       "      <th>구매유형</th>\n",
       "      <th>해피PO(발주)&lt;br/&gt;여부</th>\n",
       "      <th>공급처코드</th>\n",
       "      <th>공급처명</th>\n",
       "      <th>품목코드</th>\n",
       "      <th>계열사품목코드</th>\n",
       "      <th>품명</th>\n",
       "      <th>구매그룹 코드</th>\n",
       "      <th>구매그룹 내역</th>\n",
       "      <th>입고단위</th>\n",
       "      <th>입고수량</th>\n",
       "      <th>입고금액</th>\n",
       "      <th>입고일자</th>\n",
       "      <th>거래유형</th>\n",
       "      <th>PO삭제여부</th>\n",
       "    </tr>\n",
       "  </thead>\n",
       "  <tbody>\n",
       "    <tr>\n",
       "      <th>0</th>\n",
       "      <td>SL00</td>\n",
       "      <td>에스피씨삼립</td>\n",
       "      <td>7000</td>\n",
       "      <td>내자</td>\n",
       "      <td>구매대행</td>\n",
       "      <td>SAP</td>\n",
       "      <td>13697</td>\n",
       "      <td>(주)자연나라농업회사법인 천안지사</td>\n",
       "      <td>1000033015</td>\n",
       "      <td>770045</td>\n",
       "      <td>살균난황3kg*6</td>\n",
       "      <td>700</td>\n",
       "      <td>삼립성남물류</td>\n",
       "      <td>KG</td>\n",
       "      <td>162.0</td>\n",
       "      <td>666306</td>\n",
       "      <td>2020-07-31</td>\n",
       "      <td>협력사거래</td>\n",
       "      <td>NaN</td>\n",
       "    </tr>\n",
       "  </tbody>\n",
       "</table>\n",
       "</div>"
      ],
      "text/plain": [
       "  고객사코드    고객사명  플랜트코드 내외자구분  구매유형 해피PO(발주)<br/>여부  공급처코드                공급처명  \\\n",
       "0  SL00  에스피씨삼립   7000    내자  구매대행             SAP  13697  (주)자연나라농업회사법인 천안지사   \n",
       "\n",
       "         품목코드 계열사품목코드         품명 구매그룹 코드 구매그룹 내역 입고단위   입고수량    입고금액  \\\n",
       "0  1000033015  770045  살균난황3kg*6     700  삼립성남물류   KG  162.0  666306   \n",
       "\n",
       "         입고일자   거래유형  PO삭제여부  \n",
       "0  2020-07-31  협력사거래     NaN  "
      ]
     },
     "execution_count": 5,
     "metadata": {},
     "output_type": "execute_result"
    }
   ],
   "source": [
    "df = pd.read_excel(path + '\\\\' + file_name , encoding='cp949')\n",
    "df.head(1)"
   ]
  },
  {
   "cell_type": "code",
   "execution_count": 6,
   "metadata": {},
   "outputs": [
    {
     "data": {
      "text/plain": [
       "입고금액    64704942104\n",
       "dtype: int64"
      ]
     },
     "execution_count": 6,
     "metadata": {},
     "output_type": "execute_result"
    }
   ],
   "source": [
    "cols = ['입고금액']\n",
    "df.loc[:, cols].sum()"
   ]
  },
  {
   "cell_type": "markdown",
   "metadata": {},
   "source": [
    "## 데이터 필터링"
   ]
  },
  {
   "cell_type": "code",
   "execution_count": 7,
   "metadata": {},
   "outputs": [],
   "source": [
    "# 파리크라상\n",
    "PC00 = df[df['고객사코드'] == 'PC00']\n",
    "\n",
    "# 에스피엘\n",
    "SP00 = df[df['고객사코드'] == 'SP00']\n",
    "\n",
    "# 에스피씨삼립\n",
    "SL00 = df[df['고객사코드'] == 'SL00']\n",
    "\n",
    "# 샤니\n",
    "A100 = df[df['고객사코드'] == 'A100']\n",
    "\n",
    "# 호남샤니\n",
    "B100 = df[df['고객사코드'] == 'B100']\n",
    "\n",
    "# 비알코리아_BR\n",
    "BR00_BR = df[(df['고객사코드'] == 'BR00') & (\n",
    "    df['플랜트코드'].isin(['3100', '3200', '3300', '3400']))]\n",
    "\n",
    "# 비알코리아_DD\n",
    "BR00_DD = df[(df['고객사코드'] == 'BR00') & (\n",
    "    df['플랜트코드'].isin(['5100', '5200', '5300', '5400']))]\n",
    "\n",
    "# 밀다원\n",
    "SL00_MDW = df[df['고객사코드'] == '1000']\n",
    "\n",
    "# 그릭슈바인\n",
    "SL00_GS = df[df['고객사코드'] == 'AP00']\n",
    "\n",
    "# 에스피씨팩\n",
    "SC01 = df[df['고객사코드'] == 'SC01']\n",
    "\n",
    "# 에그팜_충주\n",
    "E100_8300 = df[(df['고객사코드'] == 'E100') & (df['플랜트코드'].isin(['8300']))]\n",
    "\n",
    "# 에그팜_청주\n",
    "E100_8400 = df[(df['고객사코드'] == 'E100') & (df['플랜트코드'].isin(['8400']))]\n",
    "\n",
    "# 샌드팜\n",
    "C100 = df[df['고객사코드'] == 'C100']"
   ]
  },
  {
   "cell_type": "markdown",
   "metadata": {},
   "source": [
    "## 청구내역 엑셀로 저장하기"
   ]
  },
  {
   "cell_type": "code",
   "execution_count": 8,
   "metadata": {},
   "outputs": [],
   "source": [
    "# 파리크라상\n",
    "PC00.to_excel(path + r'\\\\청구내역_1_파리크라상.xlsx', engine='xlsxwriter', index=False)\n",
    "\n",
    "# 에스피엘\n",
    "SP00.to_excel(path + r'\\\\청구내역_2_에스피엘.xlsx', engine='xlsxwriter', index=False)\n",
    "\n",
    "# 에스피씨삼립\n",
    "SL00.to_excel(path + r'\\\\청구내역_3_에스피씨삼립.xlsx', engine='xlsxwriter', index=False)\n",
    "\n",
    "# 샤니\n",
    "A100.to_excel(path + r'\\\\청구내역_4_샤니.xlsx', engine='xlsxwriter', index=False)\n",
    "\n",
    "# 호남샤니\n",
    "B100.to_excel(path + r'\\\\청구내역_5_호남샤니.xlsx', engine='xlsxwriter', index=False)\n",
    "\n",
    "# 비알코리아_BR\n",
    "BR00_BR.to_excel(path + r'\\\\청구내역_6_비알코리아_BR.xlsx',\n",
    "                 engine='xlsxwriter', index=False)\n",
    "\n",
    "# 비알코리아_DD\n",
    "BR00_DD.to_excel(path + r'\\\\청구내역_7_비알코리아_DD.xlsx',\n",
    "                 engine='xlsxwriter', index=False)\n",
    "\n",
    "# 밀다원\n",
    "SL00_MDW.to_excel(path + r'\\\\청구내역_8_에스피씨삼립_세종생산센터.xlsx',\n",
    "                  engine='xlsxwriter', index=False)\n",
    "\n",
    "# 그릭슈바인\n",
    "SL00_GS.to_excel(path + r'\\\\청구내역_9_에스피씨삼립_서천생산센터.xlsx',\n",
    "                 engine='xlsxwriter', index=False)\n",
    "\n",
    "# 에스피씨팩\n",
    "SC01.to_excel(path + r'\\\\청구내역_10_에스피씨팩.xlsx', engine='xlsxwriter', index=False)\n",
    "\n",
    "# 에그팜_충주\n",
    "E100_8300.to_excel(path + r'\\\\청구내역_11_에스피씨삼립_충주생산센터.xlsx',\n",
    "                   engine='xlsxwriter', index=False)\n",
    "\n",
    "# 에그팜_청주\n",
    "E100_8400.to_excel(path + r'\\\\청구내역_12_에스피씨삼립_청주생산센터.xlsx',\n",
    "                   engine='xlsxwriter', index=False)\n",
    "\n",
    "# 샌드팜\n",
    "C100.to_excel(path + r'\\\\청구내역_13_샌드팜.xlsx', engine='xlsxwriter', index=False)"
   ]
  },
  {
   "cell_type": "markdown",
   "metadata": {},
   "source": [
    "## 완료!"
   ]
  },
  {
   "cell_type": "code",
   "execution_count": 9,
   "metadata": {},
   "outputs": [
    {
     "name": "stdout",
     "output_type": "stream",
     "text": [
      "구매대행수수료 청구내역 완료!\n"
     ]
    }
   ],
   "source": [
    "print('구매대행수수료 청구내역 완료!')"
   ]
  }
 ],
 "metadata": {
  "kernelspec": {
   "display_name": "Python 3",
   "language": "python",
   "name": "python3"
  },
  "language_info": {
   "codemirror_mode": {
    "name": "ipython",
    "version": 3
   },
   "file_extension": ".py",
   "mimetype": "text/x-python",
   "name": "python",
   "nbconvert_exporter": "python",
   "pygments_lexer": "ipython3",
   "version": "3.7.4"
  },
  "toc": {
   "base_numbering": 1,
   "nav_menu": {},
   "number_sections": true,
   "sideBar": true,
   "skip_h1_title": true,
   "title_cell": "Table of Contents",
   "title_sidebar": "Contents",
   "toc_cell": false,
   "toc_position": {
    "height": "calc(100% - 180px)",
    "left": "10px",
    "top": "150px",
    "width": "266.25px"
   },
   "toc_section_display": true,
   "toc_window_display": false
  }
 },
 "nbformat": 4,
 "nbformat_minor": 2
}
