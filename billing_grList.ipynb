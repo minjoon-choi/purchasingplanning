{
 "cells": [
  {
   "cell_type": "markdown",
   "metadata": {},
   "source": [
    "# 구매대행수수료 청구내역 파일 생성\n",
    "\n",
    "<hr>Date: 2020-06-30 / Author: Minjoon Choi <br>\n",
    "고객사 구매대행수수료 청구 시 필요한 청구내역 파일을 생성<br> \n",
    "xlsx 파일 보안해제 !!!!<hr>"
   ]
  },
  {
   "cell_type": "code",
   "execution_count": null,
   "metadata": {},
   "outputs": [],
   "source": [
    "import pandas as pd"
   ]
  },
  {
   "cell_type": "markdown",
   "metadata": {},
   "source": [
    "## 파일 path 설정"
   ]
  },
  {
   "cell_type": "code",
   "execution_count": null,
   "metadata": {},
   "outputs": [],
   "source": [
    "# 작업 디렉토리 설정\n",
    "path = r'D:\\2020 구매기획팀\\3. 정기업무\\1. 구매대행수수료\\7월\\청구내역'\n",
    "\n",
    "# 전사 청구내역 데이터 - 작업 디렉토리 내에 있어야 함\n",
    "file_name = 'download.xlsx'"
   ]
  },
  {
   "cell_type": "markdown",
   "metadata": {},
   "source": [
    "## 데이터 로드"
   ]
  },
  {
   "cell_type": "code",
   "execution_count": null,
   "metadata": {
    "scrolled": true
   },
   "outputs": [],
   "source": [
    "df = pd.read_excel(path + '\\\\' + file_name , encoding='cp949')\n",
    "df.head(1)"
   ]
  },
  {
   "cell_type": "code",
   "execution_count": null,
   "metadata": {},
   "outputs": [],
   "source": [
    "cols = ['입고금액']\n",
    "df.loc[:, cols].sum()"
   ]
  },
  {
   "cell_type": "markdown",
   "metadata": {},
   "source": [
    "## 데이터 필터링"
   ]
  },
  {
   "cell_type": "code",
   "execution_count": null,
   "metadata": {},
   "outputs": [],
   "source": [
    "# 파리크라상\n",
    "PC00 = df[df['고객사코드'] == 'PC00']\n",
    "\n",
    "# 에스피엘\n",
    "SP00 = df[df['고객사코드'] == 'SP00']\n",
    "\n",
    "# 에스피씨삼립\n",
    "SL00 = df[df['고객사코드'] == 'SL00']\n",
    "\n",
    "# 샤니\n",
    "A100 = df[df['고객사코드'] == 'A100']\n",
    "\n",
    "# 호남샤니\n",
    "B100 = df[df['고객사코드'] == 'B100']\n",
    "\n",
    "# 비알코리아_BR\n",
    "BR00_BR = df[(df['고객사코드'] == 'BR00') & (\n",
    "    df['플랜트코드'].isin(['3100', '3200', '3300', '3400']))]\n",
    "\n",
    "# 비알코리아_DD\n",
    "BR00_DD = df[(df['고객사코드'] == 'BR00') & (\n",
    "    df['플랜트코드'].isin(['5100', '5200', '5300', '5400']))]\n",
    "\n",
    "# 밀다원\n",
    "SL00_MDW = df[df['고객사코드'] == '1000']\n",
    "\n",
    "# 그릭슈바인\n",
    "SL00_GS = df[df['고객사코드'] == 'AP00']\n",
    "\n",
    "# 에스피씨팩\n",
    "SC01 = df[df['고객사코드'] == 'SC01']\n",
    "\n",
    "# 에그팜_충주\n",
    "E100_8300 = df[(df['고객사코드'] == 'E100') & (df['플랜트코드'].isin(['8300']))]\n",
    "\n",
    "# 에그팜_청주\n",
    "E100_8400 = df[(df['고객사코드'] == 'E100') & (df['플랜트코드'].isin(['8400']))]\n",
    "\n",
    "# 샌드팜\n",
    "C100 = df[df['고객사코드'] == 'C100']"
   ]
  },
  {
   "cell_type": "markdown",
   "metadata": {},
   "source": [
    "## 청구내역 엑셀로 저장하기"
   ]
  },
  {
   "cell_type": "code",
   "execution_count": null,
   "metadata": {},
   "outputs": [],
   "source": [
    "# 파리크라상\n",
    "PC00.to_excel(path + r'\\\\청구내역_1_파리크라상.xlsx', engine='xlsxwriter', index=False)\n",
    "\n",
    "# 에스피엘\n",
    "SP00.to_excel(path + r'\\\\청구내역_2_에스피엘.xlsx', engine='xlsxwriter', index=False)\n",
    "\n",
    "# 에스피씨삼립\n",
    "SL00.to_excel(path + r'\\\\청구내역_3_에스피씨삼립.xlsx', engine='xlsxwriter', index=False)\n",
    "\n",
    "# 샤니\n",
    "A100.to_excel(path + r'\\\\청구내역_4_샤니.xlsx', engine='xlsxwriter', index=False)\n",
    "\n",
    "# 호남샤니\n",
    "B100.to_excel(path + r'\\\\청구내역_5_호남샤니.xlsx', engine='xlsxwriter', index=False)\n",
    "\n",
    "# 비알코리아_BR\n",
    "BR00_BR.to_excel(path + r'\\\\청구내역_6_비알코리아_BR.xlsx',\n",
    "                 engine='xlsxwriter', index=False)\n",
    "\n",
    "# 비알코리아_DD\n",
    "BR00_DD.to_excel(path + r'\\\\청구내역_7_비알코리아_DD.xlsx',\n",
    "                 engine='xlsxwriter', index=False)\n",
    "\n",
    "# 밀다원\n",
    "SL00_MDW.to_excel(path + r'\\\\청구내역_8_에스피씨삼립_세종생산센터.xlsx',\n",
    "                  engine='xlsxwriter', index=False)\n",
    "\n",
    "# 그릭슈바인\n",
    "SL00_GS.to_excel(path + r'\\\\청구내역_9_에스피씨삼립_서천생산센터.xlsx',\n",
    "                 engine='xlsxwriter', index=False)\n",
    "\n",
    "# 에스피씨팩\n",
    "SC01.to_excel(path + r'\\\\청구내역_10_에스피씨팩.xlsx', engine='xlsxwriter', index=False)\n",
    "\n",
    "# 에그팜_충주\n",
    "E100_8300.to_excel(path + r'\\\\청구내역_11_에스피씨삼립_충주생산센터.xlsx',\n",
    "                   engine='xlsxwriter', index=False)\n",
    "\n",
    "# 에그팜_청주\n",
    "E100_8400.to_excel(path + r'\\\\청구내역_12_에스피씨삼립_청주생산센터.xlsx',\n",
    "                   engine='xlsxwriter', index=False)\n",
    "\n",
    "# 샌드팜\n",
    "C100.to_excel(path + r'\\\\청구내역_13_샌드팜.xlsx', engine='xlsxwriter', index=False)"
   ]
  },
  {
   "cell_type": "markdown",
   "metadata": {},
   "source": [
    "## 완료!"
   ]
  },
  {
   "cell_type": "code",
   "execution_count": null,
   "metadata": {},
   "outputs": [],
   "source": [
    "print('구매대행수수료 청구내역 완료!')"
   ]
  }
 ],
 "metadata": {
  "kernelspec": {
   "display_name": "Python 3",
   "language": "python",
   "name": "python3"
  },
  "language_info": {
   "codemirror_mode": {
    "name": "ipython",
    "version": 3
   },
   "file_extension": ".py",
   "mimetype": "text/x-python",
   "name": "python",
   "nbconvert_exporter": "python",
   "pygments_lexer": "ipython3",
   "version": "3.7.4"
  },
  "toc": {
   "base_numbering": 1,
   "nav_menu": {},
   "number_sections": true,
   "sideBar": true,
   "skip_h1_title": true,
   "title_cell": "Table of Contents",
   "title_sidebar": "Contents",
   "toc_cell": false,
   "toc_position": {
    "height": "calc(100% - 180px)",
    "left": "10px",
    "top": "150px",
    "width": "266.25px"
   },
   "toc_section_display": true,
   "toc_window_display": false
  }
 },
 "nbformat": 4,
 "nbformat_minor": 2
}
