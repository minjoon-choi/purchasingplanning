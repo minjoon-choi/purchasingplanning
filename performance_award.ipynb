{
 "cells": [
  {
   "cell_type": "code",
   "execution_count": null,
   "metadata": {},
   "outputs": [],
   "source": [
    "%%capture\n",
    "import pandas as pd"
   ]
  },
  {
   "cell_type": "markdown",
   "metadata": {},
   "source": [
    "## 루트 디렉토리 설정 "
   ]
  },
  {
   "cell_type": "code",
   "execution_count": null,
   "metadata": {},
   "outputs": [],
   "source": [
    "# 작업 디렉토리 설정\n",
    "path = r'D:\\2020 구매기획팀\\3. 정기업무\\7. 포상 대상자 분석\\파일 새로만들기\\템플릿 업그레이드'"
   ]
  },
  {
   "cell_type": "code",
   "execution_count": null,
   "metadata": {
    "scrolled": false
   },
   "outputs": [],
   "source": [
    "# 실적 데이터\n",
    "file_name = r'구매실적.xlsx'\n",
    "\n",
    "df = pd.read_excel(path + '\\\\' + file_name , encoding='cp949')\n",
    "df.head(1)"
   ]
  },
  {
   "cell_type": "markdown",
   "metadata": {},
   "source": [
    "## 구매금액, 절감액, 절감률 "
   ]
  },
  {
   "cell_type": "code",
   "execution_count": null,
   "metadata": {},
   "outputs": [],
   "source": [
    "if df['절감액'].item == 0:\n",
    "    df['절감률'] = 0\n",
    "else:\n",
    "    df['절감률'] = df['절감액']/(df['구매금액'] + df['절감액'])"
   ]
  },
  {
   "cell_type": "markdown",
   "metadata": {},
   "source": [
    "## 목표달성률  "
   ]
  },
  {
   "cell_type": "markdown",
   "metadata": {},
   "source": [
    "### 원료 \n",
    "\n",
    "+ 목표 > 0: \n",
    "\n",
    "<blockquote>목표 달성률 = 1+ {(절감액 - 도전목표) / abs(도전목표)}</blockquote>\n",
    "\n",
    "+ 목표 < 0: \n",
    "\n",
    "<blockquote>목표 달성률 = {(절감액 - 도전목표) / abs(도전목표)}</blockquote>\n",
    "\n",
    "### 설비\n",
    "\n",
    "+ 설비/외자: 절감률 / 7%\n",
    "+ 순환: 제외 \n",
    "\n",
    "### 인테리어\n",
    "\n",
    "+ 인테리어: 절감률 / 4.5%"
   ]
  },
  {
   "cell_type": "code",
   "execution_count": null,
   "metadata": {
    "scrolled": true
   },
   "outputs": [],
   "source": [
    "df.loc[df['도전목표'] < 0, '목표 달성률'] = (df['절감액'] - df['도전목표']) / abs(df['도전목표'])\n",
    "df.loc[df['도전목표'] == 0, '목표 달성률'] = df['목표 달성률'] = 0\n",
    "df.loc[df['도전목표'] > 0, '목표 달성률'] = 1 + \\\n",
    "    ((df['절감액'] - df['도전목표']) / abs(df['도전목표']))\n",
    "df.loc[df['구분'] == '설비', '목표 달성률'] = df['절감률'] / 0.07\n",
    "df.loc[df['구분'] == '외자', '목표 달성률'] = df['절감률'] / 0.07 #인수인계는 5.5%였으나, 김재욱 차장님이 7% 라고 하심\n",
    "df.loc[df['구분'] == '인테리어', '목표 달성률'] = df['절감률'] / 0.045"
   ]
  },
  {
   "cell_type": "code",
   "execution_count": null,
   "metadata": {},
   "outputs": [],
   "source": [
    "df['index'] = df.loc[(df['구분']!='순환')].groupby('담당자')['구매금액'].rank(method='first', ascending=False)\n",
    "df_achieved_rate = df[['팀','담당자', '구분','구매금액','절감액','도전목표','절감률','목표 달성률', 'index']]\n",
    "df_achieved_rate.loc[(df_achieved_rate['구분']!='순환') & (df_achieved_rate['index'] <2)]"
   ]
  },
  {
   "cell_type": "markdown",
   "metadata": {},
   "source": [
    "## 신규아이디어 제안 성과 분석"
   ]
  },
  {
   "cell_type": "markdown",
   "metadata": {},
   "source": [
    "### 신규절감제안 절감률 \n",
    "+ 월 구매금액 대비 신규 절감 아이디어 제안 금액의 절감률\n",
    "+ 신규아이디어 제안서 상정주차 기준으로 포상 기준월 담당자별 절감액 산출"
   ]
  },
  {
   "cell_type": "code",
   "execution_count": null,
   "metadata": {},
   "outputs": [],
   "source": [
    "# 신규아이디어 절감액 데이터 import\n",
    "file_name2 = r'아이디어절감액.xlsx'\n",
    "df2 = pd.read_excel(path + '\\\\' + file_name2 , encoding='cp949')\n",
    "df2.head(1)"
   ]
  },
  {
   "cell_type": "code",
   "execution_count": null,
   "metadata": {},
   "outputs": [],
   "source": [
    "df_sum = df.groupby('담당자')['구매금액'].sum()\n",
    "df_sum = pd.DataFrame(df_sum)\n",
    "df_sum.head(1)"
   ]
  },
  {
   "cell_type": "code",
   "execution_count": null,
   "metadata": {},
   "outputs": [],
   "source": [
    "df_merge = pd.merge(df_sum, df2, how='inner', on='담당자')\n",
    "df_merge['제안절감률'] = df_merge['아이디어절감액'] / df_merge['구매금액']\n",
    "df_idea = df_merge\n",
    "df_idea.head(5)"
   ]
  },
  {
   "cell_type": "markdown",
   "metadata": {},
   "source": [
    "### 신규절감제안 달성률\n",
    "+ 신규 아이디어 제안의 당월 목표 대비 절감 달성률\n",
    "+ 원가절감 Tracking 목표 및 절감액 \n",
    "\n",
    "<blockquote>신규절감제안 달성률 = 당월 제안절감액 / 당월 제안목표</blockquote>"
   ]
  },
  {
   "cell_type": "code",
   "execution_count": null,
   "metadata": {},
   "outputs": [],
   "source": [
    "# 원가절감 Tracking 데이터 import\n",
    "file_name3 = r'원가절감Tracking.xlsx'\n",
    "df3 = pd.read_excel(path + '\\\\' + file_name3 , encoding='cp949')\n",
    "df3.head(1)"
   ]
  },
  {
   "cell_type": "code",
   "execution_count": null,
   "metadata": {},
   "outputs": [],
   "source": [
    "df3['제안달성률'] = df3['제안절감액'] / df3['제안목표']\n",
    "df_idea_achieved = df3\n",
    "df_idea_achieved.head(5)"
   ]
  },
  {
   "cell_type": "markdown",
   "metadata": {},
   "source": [
    "## 상품개발 성과 분석"
   ]
  },
  {
   "cell_type": "markdown",
   "metadata": {},
   "source": [
    "### 상품개발 목표 대비 달성률 & 3개월 매출 평균  \n",
    "\n",
    "+ 상품개발 달성률: 신규 상품개발의 당월 목표 대비 매출 달성률\n",
    "<blockquote> 상품개발 달성률 = 당월 매출/ 상품개발목표 </blockquote>\n",
    "\n",
    "+ 상품개발 매출액 평균: 최근 3개월 매출 평균금액 (단, 1월, 2월은 해당 월 까지의 누계 평균 반영)"
   ]
  },
  {
   "cell_type": "code",
   "execution_count": null,
   "metadata": {},
   "outputs": [],
   "source": [
    "# 원가절감 Tracking 데이터 import\n",
    "file_name4 = r'상품개발실적.xlsx'\n",
    "df4 = pd.read_excel(path + '\\\\' + file_name4 , encoding='cp949')\n",
    "df4.head(1)"
   ]
  },
  {
   "cell_type": "code",
   "execution_count": null,
   "metadata": {},
   "outputs": [],
   "source": [
    "def divide_by_zero(a, b):\n",
    "    if b.item == 0:\n",
    "        return 0.0\n",
    "    elif a.item == 0:\n",
    "        return 0.0\n",
    "    else:\n",
    "        return a / b\n",
    "\n",
    "df4['매출목표달성률'] = divide_by_zero(df4['당월매출'], df4['상품개발목표'])\n",
    "df4"
   ]
  }
 ],
 "metadata": {
  "kernelspec": {
   "display_name": "Python 3",
   "language": "python",
   "name": "python3"
  },
  "language_info": {
   "codemirror_mode": {
    "name": "ipython",
    "version": 3
   },
   "file_extension": ".py",
   "mimetype": "text/x-python",
   "name": "python",
   "nbconvert_exporter": "python",
   "pygments_lexer": "ipython3",
   "version": "3.7.4"
  },
  "toc": {
   "base_numbering": 1,
   "nav_menu": {
    "height": "478px",
    "width": "345px"
   },
   "number_sections": true,
   "sideBar": true,
   "skip_h1_title": false,
   "title_cell": "Table of Contents",
   "title_sidebar": "Contents",
   "toc_cell": false,
   "toc_position": {},
   "toc_section_display": true,
   "toc_window_display": false
  }
 },
 "nbformat": 4,
 "nbformat_minor": 2
}
